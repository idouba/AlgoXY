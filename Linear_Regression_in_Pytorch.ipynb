{
  "nbformat": 4,
  "nbformat_minor": 0,
  "metadata": {
    "colab": {
      "provenance": [],
      "include_colab_link": true
    },
    "kernelspec": {
      "name": "python3",
      "display_name": "Python 3"
    },
    "language_info": {
      "name": "python"
    }
  },
  "cells": [
    {
      "cell_type": "markdown",
      "metadata": {
        "id": "view-in-github",
        "colab_type": "text"
      },
      "source": [
        "<a href=\"https://colab.research.google.com/github/idouba/AlgoXY/blob/algoxy/Linear_Regression_in_Pytorch.ipynb\" target=\"_parent\"><img src=\"https://colab.research.google.com/assets/colab-badge.svg\" alt=\"Open In Colab\"/></a>"
      ]
    },
    {
      "cell_type": "markdown",
      "metadata": {
        "id": "TDmcSGewXJDr"
      },
      "source": [
        "## Imports"
      ]
    },
    {
      "cell_type": "code",
      "metadata": {
        "id": "vvPLjUrfXKZM"
      },
      "source": [
        "# @title\n",
        "import torch\n",
        "import numpy as np"
      ],
      "execution_count": 1,
      "outputs": []
    },
    {
      "cell_type": "markdown",
      "metadata": {
        "id": "xYfAerwpXQ3O"
      },
      "source": [
        "## Data"
      ]
    },
    {
      "cell_type": "code",
      "metadata": {
        "id": "XoXue2OfXSMh"
      },
      "source": [
        "inputs = np.array([[73, 67, 43],\n",
        "                   [91, 88, 64],\n",
        "                   [87, 134, 58],\n",
        "                   [102, 43, 37],\n",
        "                   [69, 96, 70],\n",
        "                   [74, 66, 43],\n",
        "                   [91, 87, 65],\n",
        "                   [88, 134, 59],\n",
        "                   [101, 44, 37],\n",
        "                   [68, 96, 71],\n",
        "                   [73, 66, 44],\n",
        "                   [92, 87, 64],\n",
        "                   [87, 135, 57],\n",
        "                   [103, 43, 36],\n",
        "                   [68, 97, 70]],\n",
        "                  dtype='float32')\n",
        "targets = np.array([[56, 70],\n",
        "                    [81, 101],\n",
        "                    [119, 133],\n",
        "                    [22, 37],\n",
        "                    [103, 119],\n",
        "                    [57, 69],\n",
        "                    [80, 102],\n",
        "                    [118, 132],\n",
        "                    [21, 38],\n",
        "                    [104, 118],\n",
        "                    [57, 69],\n",
        "                    [82, 100],\n",
        "                    [118, 134],\n",
        "                    [20, 38],\n",
        "                    [102, 120]],\n",
        "                   dtype='float32')"
      ],
      "execution_count": 3,
      "outputs": []
    },
    {
      "cell_type": "code",
      "metadata": {
        "id": "2T2h3N4TXUsP"
      },
      "source": [
        "inputs = torch.from_numpy(inputs)\n",
        "targets = torch.from_numpy(targets)"
      ],
      "execution_count": 4,
      "outputs": []
    },
    {
      "cell_type": "code",
      "metadata": {
        "colab": {
          "base_uri": "https://localhost:8080/"
        },
        "id": "ZBHzMWjEXWhC",
        "outputId": "98187d03-70b1-4be8-b051-eacc535ecbe1"
      },
      "source": [
        "print(inputs)"
      ],
      "execution_count": 5,
      "outputs": [
        {
          "output_type": "stream",
          "name": "stdout",
          "text": [
            "tensor([[ 73.,  67.,  43.],\n",
            "        [ 91.,  88.,  64.],\n",
            "        [ 87., 134.,  58.],\n",
            "        [102.,  43.,  37.],\n",
            "        [ 69.,  96.,  70.],\n",
            "        [ 74.,  66.,  43.],\n",
            "        [ 91.,  87.,  65.],\n",
            "        [ 88., 134.,  59.],\n",
            "        [101.,  44.,  37.],\n",
            "        [ 68.,  96.,  71.],\n",
            "        [ 73.,  66.,  44.],\n",
            "        [ 92.,  87.,  64.],\n",
            "        [ 87., 135.,  57.],\n",
            "        [103.,  43.,  36.],\n",
            "        [ 68.,  97.,  70.]])\n"
          ]
        }
      ]
    },
    {
      "cell_type": "code",
      "metadata": {
        "colab": {
          "base_uri": "https://localhost:8080/"
        },
        "id": "K8eMXjAhXYif",
        "outputId": "50e101b9-8f1e-42ea-8f8f-620109688e66"
      },
      "source": [
        "print(targets)"
      ],
      "execution_count": 6,
      "outputs": [
        {
          "output_type": "stream",
          "name": "stdout",
          "text": [
            "tensor([[ 56.,  70.],\n",
            "        [ 81., 101.],\n",
            "        [119., 133.],\n",
            "        [ 22.,  37.],\n",
            "        [103., 119.],\n",
            "        [ 57.,  69.],\n",
            "        [ 80., 102.],\n",
            "        [118., 132.],\n",
            "        [ 21.,  38.],\n",
            "        [104., 118.],\n",
            "        [ 57.,  69.],\n",
            "        [ 82., 100.],\n",
            "        [118., 134.],\n",
            "        [ 20.,  38.],\n",
            "        [102., 120.]])\n"
          ]
        }
      ]
    },
    {
      "cell_type": "markdown",
      "metadata": {
        "id": "m80Yf02zXdVc"
      },
      "source": [
        "## Dataset"
      ]
    },
    {
      "cell_type": "code",
      "metadata": {
        "id": "1vQKBZRgXeIt"
      },
      "source": [
        "from torch.utils.data import TensorDataset\n",
        "\n",
        "dataset = TensorDataset(inputs, targets)"
      ],
      "execution_count": 7,
      "outputs": []
    },
    {
      "cell_type": "code",
      "metadata": {
        "colab": {
          "base_uri": "https://localhost:8080/"
        },
        "id": "jjY28mVLXgMh",
        "outputId": "a128a310-0440-4cbd-c393-9e7b6394877d"
      },
      "source": [
        "dataset[:3]"
      ],
      "execution_count": null,
      "outputs": [
        {
          "output_type": "execute_result",
          "data": {
            "text/plain": [
              "(tensor([[ 73.,  67.,  43.],\n",
              "         [ 91.,  88.,  64.],\n",
              "         [ 87., 134.,  58.]]), tensor([[ 56.,  70.],\n",
              "         [ 81., 101.],\n",
              "         [119., 133.]]))"
            ]
          },
          "metadata": {},
          "execution_count": 7
        }
      ]
    },
    {
      "cell_type": "markdown",
      "metadata": {
        "id": "7Q2OQsChXkx-"
      },
      "source": [
        "## DataLoader"
      ]
    },
    {
      "cell_type": "code",
      "metadata": {
        "id": "WQe0YuyYXhib"
      },
      "source": [
        "from torch.utils.data import DataLoader\n",
        "\n",
        "batch_size = 3\n",
        "train_loader = DataLoader(dataset, batch_size=batch_size, shuffle=True)"
      ],
      "execution_count": null,
      "outputs": []
    },
    {
      "cell_type": "code",
      "metadata": {
        "colab": {
          "base_uri": "https://localhost:8080/"
        },
        "id": "LkIz1yA7XmSg",
        "outputId": "ab67e337-6211-45a3-f506-f1ec4439584b"
      },
      "source": [
        "# A Batch Sample\n",
        "for inp,target in train_loader:\n",
        "    print(inp)\n",
        "    print(target)\n",
        "    break"
      ],
      "execution_count": null,
      "outputs": [
        {
          "output_type": "stream",
          "text": [
            "tensor([[101.,  44.,  37.],\n",
            "        [ 74.,  66.,  43.],\n",
            "        [103.,  43.,  36.]])\n",
            "tensor([[21., 38.],\n",
            "        [57., 69.],\n",
            "        [20., 38.]])\n"
          ],
          "name": "stdout"
        }
      ]
    },
    {
      "cell_type": "markdown",
      "metadata": {
        "id": "u3LOkTVNXuMA"
      },
      "source": [
        "## Linear Regression"
      ]
    },
    {
      "cell_type": "code",
      "metadata": {
        "colab": {
          "base_uri": "https://localhost:8080/"
        },
        "id": "NXl5yvccXvcS",
        "outputId": "48c99287-3d3d-4e05-f724-39fc50b79905"
      },
      "source": [
        "w = torch.randn(2, 3, requires_grad=True) #Weights\n",
        "b = torch.randn(2, requires_grad=True) # Bias\n",
        "print(w)\n",
        "print(b)"
      ],
      "execution_count": null,
      "outputs": [
        {
          "output_type": "stream",
          "text": [
            "tensor([[-0.1731, -0.6897,  0.3472],\n",
            "        [-1.1402, -1.0512, -2.0045]], requires_grad=True)\n",
            "tensor([ 0.0628, -1.0764], requires_grad=True)\n"
          ],
          "name": "stdout"
        }
      ]
    },
    {
      "cell_type": "code",
      "metadata": {
        "id": "XjBvWQIgXvuL"
      },
      "source": [
        "# Text classidication, lm etc\n",
        "def model(X):\n",
        "    return X @ w.t() + b"
      ],
      "execution_count": null,
      "outputs": []
    },
    {
      "cell_type": "code",
      "metadata": {
        "colab": {
          "base_uri": "https://localhost:8080/"
        },
        "id": "OA3ZN9njXx_x",
        "outputId": "a6ea179d-4e58-4d68-aedb-18f669d1f85a"
      },
      "source": [
        "for x,y in train_loader:\n",
        "    preds = model(x)\n",
        "    print(\"Prediction is :\\n\",preds)\n",
        "    print(\"\\nActual targets is :\\n\",y)\n",
        "    break"
      ],
      "execution_count": null,
      "outputs": [
        {
          "output_type": "stream",
          "text": [
            "Prediction is :\n",
            " tensor([[105.4609,  17.5877],\n",
            "        [ 78.4351, -14.3465],\n",
            "        [ 81.4131,   2.6698]], grad_fn=<AddBackward0>)\n",
            "\n",
            "Actual targets is :\n",
            " tensor([[ 82., 100.],\n",
            "        [104., 118.],\n",
            "        [118., 132.]])\n"
          ],
          "name": "stdout"
        }
      ]
    },
    {
      "cell_type": "markdown",
      "metadata": {
        "id": "ZKln4cKhX2nP"
      },
      "source": [
        "### Loss"
      ]
    },
    {
      "cell_type": "code",
      "metadata": {
        "id": "MP5BloM9X3Tc"
      },
      "source": [
        "def mse_loss(predictions, targets):\n",
        "    difference = predictions - targets\n",
        "    return torch.sum(difference * difference) / difference.numel()\n",
        "\n",
        "# Mean: sum/count"
      ],
      "execution_count": null,
      "outputs": []
    },
    {
      "cell_type": "code",
      "metadata": {
        "colab": {
          "base_uri": "https://localhost:8080/"
        },
        "id": "qvQwDBBjX3hu",
        "outputId": "7cecb448-5854-4627-8442-da193c8f0a6c"
      },
      "source": [
        "for x,y in train_loader:\n",
        "    preds = model(x)\n",
        "    print(\"Prediction is :\\n\",preds)\n",
        "    print(\"\\nActual targets is :\\n\",y)\n",
        "    print(\"\\nLoss is: \",mse_loss(preds, y))\n",
        "    break"
      ],
      "execution_count": null,
      "outputs": [
        {
          "output_type": "stream",
          "text": [
            "Prediction is :\n",
            " tensor([[104.8198,  15.8515],\n",
            "        [ 80.8309,  20.3012],\n",
            "        [ 79.7868,   2.4079]], grad_fn=<AddBackward0>)\n",
            "\n",
            "Actual targets is :\n",
            " tensor([[ 80., 102.],\n",
            "        [ 56.,  70.],\n",
            "        [119., 133.]])\n",
            "\n",
            "Loss is:  tensor(4952.6855, grad_fn=<DivBackward0>)\n"
          ],
          "name": "stdout"
        }
      ]
    },
    {
      "cell_type": "code",
      "metadata": {
        "colab": {
          "base_uri": "https://localhost:8080/"
        },
        "id": "G0aviSvOX5BX",
        "outputId": "8e1dc662-99b7-42fd-b8e9-2ed97f9c8e7e"
      },
      "source": [
        "epochs = 50\n",
        "for i in range(epochs):\n",
        "    # Iterate through training dataloader\n",
        "    for x,y in train_loader:\n",
        "        # Generate Prediction\n",
        "        preds = model(x)\n",
        "        # Get the loss and perform backpropagation\n",
        "        loss = mse_loss(preds, y)\n",
        "        loss.backward()\n",
        "        # print(loss)\n",
        "        # Let's update the weights\n",
        "        with torch.no_grad():\n",
        "            w -= w.grad * 1e-5 # w = w - w.grad * 0.00001\n",
        "            b -= b.grad * 1e-5\n",
        "            # Set the gradients to zero\n",
        "            w.grad.zero_()\n",
        "            b.grad.zero_()\n",
        "    print(f\"Epoch {i}/{epochs}: Loss: {loss}\")"
      ],
      "execution_count": null,
      "outputs": [
        {
          "output_type": "stream",
          "text": [
            "Epoch 0/50: Loss: 39.82994842529297\n",
            "Epoch 1/50: Loss: 30.654478073120117\n",
            "Epoch 2/50: Loss: 68.6048355102539\n",
            "Epoch 3/50: Loss: 42.25682067871094\n",
            "Epoch 4/50: Loss: 44.0922966003418\n",
            "Epoch 5/50: Loss: 2.393836736679077\n",
            "Epoch 6/50: Loss: 6.886496067047119\n",
            "Epoch 7/50: Loss: 57.208736419677734\n",
            "Epoch 8/50: Loss: 10.268721580505371\n",
            "Epoch 9/50: Loss: 16.469043731689453\n",
            "Epoch 10/50: Loss: 24.616241455078125\n",
            "Epoch 11/50: Loss: 49.498809814453125\n",
            "Epoch 12/50: Loss: 42.61131286621094\n",
            "Epoch 13/50: Loss: 18.060483932495117\n",
            "Epoch 14/50: Loss: 36.587711334228516\n",
            "Epoch 15/50: Loss: 23.599815368652344\n",
            "Epoch 16/50: Loss: 24.5932674407959\n",
            "Epoch 17/50: Loss: 25.95461082458496\n",
            "Epoch 18/50: Loss: 28.617746353149414\n",
            "Epoch 19/50: Loss: 28.986486434936523\n",
            "Epoch 20/50: Loss: 2.889214515686035\n",
            "Epoch 21/50: Loss: 30.027376174926758\n",
            "Epoch 22/50: Loss: 19.069189071655273\n",
            "Epoch 23/50: Loss: 14.376457214355469\n",
            "Epoch 24/50: Loss: 16.387975692749023\n",
            "Epoch 25/50: Loss: 34.42115783691406\n",
            "Epoch 26/50: Loss: 23.945283889770508\n",
            "Epoch 27/50: Loss: 28.12384033203125\n",
            "Epoch 28/50: Loss: 33.27376174926758\n",
            "Epoch 29/50: Loss: 18.352436065673828\n",
            "Epoch 30/50: Loss: 29.398942947387695\n",
            "Epoch 31/50: Loss: 39.94038772583008\n",
            "Epoch 32/50: Loss: 44.3647575378418\n",
            "Epoch 33/50: Loss: 17.572553634643555\n",
            "Epoch 34/50: Loss: 6.70941686630249\n",
            "Epoch 35/50: Loss: 19.727420806884766\n",
            "Epoch 36/50: Loss: 18.570680618286133\n",
            "Epoch 37/50: Loss: 14.358609199523926\n",
            "Epoch 38/50: Loss: 40.60626220703125\n",
            "Epoch 39/50: Loss: 18.5313663482666\n",
            "Epoch 40/50: Loss: 34.895633697509766\n",
            "Epoch 41/50: Loss: 18.137794494628906\n",
            "Epoch 42/50: Loss: 28.24519920349121\n",
            "Epoch 43/50: Loss: 31.241662979125977\n",
            "Epoch 44/50: Loss: 14.507664680480957\n",
            "Epoch 45/50: Loss: 29.145963668823242\n",
            "Epoch 46/50: Loss: 36.94430160522461\n",
            "Epoch 47/50: Loss: 4.938004016876221\n",
            "Epoch 48/50: Loss: 15.302398681640625\n",
            "Epoch 49/50: Loss: 15.0596284866333\n"
          ],
          "name": "stdout"
        }
      ]
    },
    {
      "cell_type": "markdown",
      "metadata": {
        "id": "mOEq3zILaONg"
      },
      "source": [
        "## Results"
      ]
    },
    {
      "cell_type": "code",
      "metadata": {
        "colab": {
          "base_uri": "https://localhost:8080/"
        },
        "id": "gTQZbjRwXr94",
        "outputId": "2fcb917b-b9a6-4d17-d126-0a9cc33d2d9a"
      },
      "source": [
        "for x,y in train_loader:\n",
        "    preds = model(x)\n",
        "    print(\"Prediction is :\\n\",preds)\n",
        "    print(\"\\nActual targets is :\\n\",y)\n",
        "    break"
      ],
      "execution_count": null,
      "outputs": [
        {
          "output_type": "stream",
          "text": [
            "Prediction is :\n",
            " tensor([[102.6596, 110.3845],\n",
            "        [ 81.1419,  95.7303],\n",
            "        [ 56.8479,  70.9188]], grad_fn=<AddBackward0>)\n",
            "\n",
            "Actual targets is :\n",
            " tensor([[103., 119.],\n",
            "        [ 82., 100.],\n",
            "        [ 56.,  70.]])\n"
          ],
          "name": "stdout"
        }
      ]
    },
    {
      "cell_type": "code",
      "metadata": {
        "id": "veMY0yeNr3KQ"
      },
      "source": [],
      "execution_count": null,
      "outputs": []
    },
    {
      "cell_type": "code",
      "metadata": {
        "id": "jlRey5z-rrw6"
      },
      "source": [],
      "execution_count": null,
      "outputs": []
    }
  ]
}